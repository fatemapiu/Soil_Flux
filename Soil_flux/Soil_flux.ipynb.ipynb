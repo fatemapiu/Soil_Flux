{
 "cells": [
  {
   "cell_type": "markdown",
   "id": "4eb9945d-d7ee-4a8e-b5fe-3cd36de49322",
   "metadata": {},
   "source": [
    "# Gas Flux Analyzer Notebook\n",
    "This notebook walks through the process of analyzing soil greenhouse gas (GHG) flux data from a Gasmet analyzer. It automates the calculation of CO₂ and N₂O fluxes, performs linear regression, generates plots, and prepares the data for final analysis."
   ]
  },
  {
   "cell_type": "markdown",
   "id": "d2b57afc-f4a1-4ab7-9047-8552b59a8b74",
   "metadata": {},
   "source": [
    "## 1. Setup and Configuration\n",
    "First, we'll import the necessary Python libraries."
   ]
  },
  {
   "cell_type": "code",
   "execution_count": null,
   "id": "a99f0f26-7cdc-49c6-85d2-7adfeb69eec3",
   "metadata": {},
   "outputs": [],
   "source": [
    "import os\n",
    "import pandas as pd\n",
    "import numpy as np\n",
    "import matplotlib.pyplot as plt\n",
    "import matplotlib.dates as mdates\n",
    "import seaborn as sns"
   ]
  },
  {
   "cell_type": "markdown",
   "id": "31533b30-0554-4fc1-a266-74ffb3dfa74b",
   "metadata": {},
   "source": [
    "## 2. Core Functions\n",
    "These are the helper functions that perform specific tasks like calculating slopes and creating plots.\n",
    "\n",
    "filter_and_calculate_slope\n",
    "This function takes the raw data, isolates a specific measurement interval, trims the noisy start and end periods, and then performs a linear regression to find the rate of gas concentration change (the slope)."
   ]
  },
  {
   "cell_type": "code",
   "execution_count": null,
   "id": "75e18911-3494-45bb-9b62-afa2e3a0f1a1",
   "metadata": {},
   "outputs": [],
   "source": [
    "def filter_and_calculate_slope(df, start_time, end_time, gas='Carbon dioxide CO2'):\n",
    "    # Filter data within time range\n",
    "    mask = (df['Time1'] >= start_time) & (df['Time1'] <= end_time)\n",
    "    interval_data = df.loc[mask].copy()\n",
    "\n",
    "    if interval_data.empty:\n",
    "        return None, None, None\n",
    "\n",
    "    # Convert relative time in seconds\n",
    "    interval_data['Elapsed'] = (interval_data['Time1'] - interval_data['Time1'].iloc[0]).dt.total_seconds()\n",
    "\n",
    "    # Drop first 180s and last 100s\n",
    "    interval_data = interval_data[(interval_data['Elapsed'] >= 180) & \n",
    "                                  (interval_data['Elapsed'] <= interval_data['Elapsed'].max() - 100)]\n",
    "\n",
    "    if interval_data.empty:\n",
    "        return None, None, None\n",
    "\n",
    "    # Regression: concentration vs time\n",
    "    time_seconds = interval_data['Elapsed']\n",
    "    concentration = interval_data[gas]\n",
    "\n",
    "    coeffs = np.polyfit(time_seconds, concentration, 1)\n",
    "    slope = coeffs[0]\n",
    "    intercept = coeffs[1]\n",
    "    equation = f\"{slope:.4f} * t + {intercept:.2f}\"\n",
    "\n",
    "    return interval_data, slope, equation"
   ]
  },
  {
   "cell_type": "markdown",
   "id": "941e3640-3319-4b59-baeb-3391e891ffcc",
   "metadata": {},
   "source": [
    "## 3. Main Processing Workflow\n",
    "This is the main function that ties everything together. It reads the data files, loops through each measurement defined in log.txt, calls the helper functions to calculate slopes and generate plots, and finally computes the soil flux."
   ]
  },
  {
   "cell_type": "code",
   "execution_count": null,
   "id": "42a8f1bd-effb-4903-a97c-8fc65cf12999",
   "metadata": {},
   "outputs": [],
   "source": [
    "def process_folder(folder_path):\n",
    "    results_file_path = os.path.join(folder_path, 'RESULTS.txt')\n",
    "    log_file_path = os.path.join(folder_path, 'log.txt')\n",
    "\n",
    "    df = pd.read_csv(results_file_path, delimiter='\\t')\n",
    "    log_df = pd.read_csv(log_file_path, delimiter='\\t')\n",
    "\n",
    "    df['Time1'] = pd.to_datetime(df['Date'] + ' ' + df['Time'], format=\"%Y-%m-%d %H:%M:%S\")\n",
    "    log_df['Start Time1'] = pd.to_datetime(log_df['Date'] + ' ' + log_df['Start Time'], format=\"%Y-%m-%d %H:%M:%S\")\n",
    "    log_df['End Time1'] = pd.to_datetime(log_df['Date'] + ' ' + log_df['End Time'], format=\"%Y-%m-%d %H:%M:%S\")\n",
    "    log_df.columns = log_df.columns.str.encode('utf-8').str.decode('utf-8').str.strip()\n",
    "    log_df.columns = log_df.columns.str.replace('\\n', '').str.replace('\\r', '').str.replace('\\t', '')\n",
    "\n",
    "    slopes_co2 = []\n",
    "    slopes_n2o = []\n",
    "\n",
    "    figures_dir = os.path.join(folder_path, 'figures')\n",
    "    os.makedirs(figures_dir, exist_ok=True)\n",
    "\n",
    "    for _, row in log_df.iterrows():\n",
    "        start_time = row['Start Time1']\n",
    "        end_time = row['End Time1']\n",
    "        sample_id = row['Sample ID']\n",
    "\n",
    "        for gas, slopes_list in zip(['Carbon dioxide CO2', 'Nitrous oxide N2O'], [slopes_co2, slopes_n2o]):\n",
    "            interval_data, slope, equation = filter_and_calculate_slope(df, start_time, end_time, gas)\n",
    "\n",
    "            if interval_data is None:\n",
    "                print(f\"No data available for Sample ID {sample_id} - {gas}\")\n",
    "                slopes_list.append(None)\n",
    "                continue\n",
    "\n",
    "            slopes_list.append(slope)\n",
    "            # Plot\n",
    "            plt.figure(figsize=(10, 6))\n",
    "            plt.plot(interval_data['Time1'], interval_data[gas], marker='o', linestyle='-')\n",
    "            plt.xlabel('Time')\n",
    "            plt.ylabel(f'{gas} Concentration [ppm]')\n",
    "            plt.title(f'{gas} Concentration Over Time for Sample ID {sample_id}')\n",
    "            plt.gca().xaxis.set_major_formatter(mdates.DateFormatter('%H:%M:%S'))\n",
    "            plt.gca().xaxis.set_major_locator(mdates.SecondLocator(interval=60))\n",
    "            plt.text(0.05, 0.95, f'Slope: {slope:.2f} ppm/s\\nEquation: {equation}', transform=plt.gca().transAxes,\n",
    "                     verticalalignment='top', bbox=dict(facecolor='white', alpha=0.8))\n",
    "            plt.grid(True)\n",
    "            plt.xticks(rotation=45)\n",
    "            plt.tight_layout()\n",
    "            gas_label = gas.split()[-1]\n",
    "            figure_path = os.path.join(figures_dir, f'{sample_id}_{gas_label}.png')\n",
    "            plt.savefig(figure_path)\n",
    "            plt.close()\n",
    "\n",
    "\n",
    "\n",
    "    # Add slope columns\n",
    "    log_df['Slope_CO2'] = slopes_co2\n",
    "    log_df['Slope_N2O'] = slopes_n2o\n",
    "    extra = log_df['Extension']\n",
    "    # Constants\n",
    "    pi = np.pi\n",
    "    molar_volume = 22.4 * 10**-3\n",
    "    radius = 0.1143 / 2  # collar radius meters (4.5 inch diameter)\n",
    "    height = 0.18288     # collar height meters (7.2 inch for our chamber)\n",
    "    footprint_area =pi * (radius**2)   #Footprint area of the chamber (m2), diameter should be the internal diameter of the collar\n",
    "    volume_pipe= 0.0011 #cell and pipework (0.4L), volume of the interconnecting pipework (0.6L) any headspace between the soil surface and the chamber (0.1L) from manual total 1.1L or 0.0011m3\n",
    "    volume = pi * (radius**2) * (height + extra)+volume_pipe\n",
    "    # Volume and temperature adjustment\n",
    "    log_df['Volume Ratio'] = volume / molar_volume\n",
    "    log_df['Area Footprint'] = footprint_area\n",
    "    log_df['Temperature Ratio'] = 273 / (log_df['Temperature'] + 273)\n",
    "\n",
    "    # Soil Flux for CO2 and N2O\n",
    "    log_df['Soil_Flux_CO2'] = log_df['Slope_CO2'] * log_df['Volume Ratio'] / (log_df['Area Footprint'] * log_df['Temperature Ratio']) #unit (μmol m−2s−1 )\n",
    "    log_df['Soil_Flux_N2O'] = log_df['Slope_N2O'] * log_df['Volume Ratio'] / (log_df['Area Footprint'] * log_df['Temperature Ratio'])  #unit (μmol m−2s−1 )\n",
    "\n",
    "    output_file_path = os.path.join(folder_path, 'Soil Flux.csv')\n",
    "    log_df.to_csv(output_file_path, index=False)\n",
    "    print(log_df.columns.tolist())"
   ]
  },
  {
   "cell_type": "markdown",
   "id": "d1599359-5f14-4408-b357-1f84d4f3b2f9",
   "metadata": {},
   "source": [
    "## 4. Execute the Analysis\n",
    "This final code cell is the \"driver\". It specifies the main data folder."
   ]
  },
  {
   "cell_type": "code",
   "execution_count": null,
   "id": "a45dcbc3-ff60-4331-9c08-975f0948ecb4",
   "metadata": {},
   "outputs": [],
   "source": [
    "def main(root_folder):\n",
    "    for folder_name in os.listdir(root_folder):\n",
    "        folder_path = os.path.join(root_folder, folder_name)\n",
    "        if os.path.isdir(folder_path):\n",
    "            process_folder(folder_path)\n",
    "\n"
   ]
  },
  {
   "cell_type": "code",
   "execution_count": null,
   "id": "3bcc8988-5b33-461b-ae27-dace26543b7c",
   "metadata": {},
   "outputs": [],
   "source": [
    "root_folder = r'C:\\Users\\fatem\\OneDrive\\Desktop\\Soil\\Soil_Github\\Sample_data_processing'\n",
    "main(root_folder)"
   ]
  },
  {
   "cell_type": "code",
   "execution_count": null,
   "id": "9a20a03c-e078-463c-9e20-978cefd073fa",
   "metadata": {},
   "outputs": [],
   "source": []
  },
  {
   "cell_type": "code",
   "execution_count": null,
   "id": "c573ef95-3de3-48f6-9820-580bf036b1b6",
   "metadata": {},
   "outputs": [],
   "source": []
  },
  {
   "cell_type": "code",
   "execution_count": null,
   "id": "26eae933-ce40-4643-9c32-282f145de4fc",
   "metadata": {},
   "outputs": [],
   "source": []
  },
  {
   "cell_type": "code",
   "execution_count": null,
   "id": "f2738f34-6020-4775-8efa-1c2d369b8db0",
   "metadata": {},
   "outputs": [],
   "source": []
  },
  {
   "cell_type": "code",
   "execution_count": null,
   "id": "bd838712-8219-4283-9eed-3693c2e0fea2",
   "metadata": {},
   "outputs": [],
   "source": []
  },
  {
   "cell_type": "code",
   "execution_count": null,
   "id": "c641fef2-792a-4f71-91f8-79aaf3f8a7b9",
   "metadata": {},
   "outputs": [],
   "source": []
  },
  {
   "cell_type": "code",
   "execution_count": null,
   "id": "6fb822c8-7895-43e4-9047-f7c3bb1b5f81",
   "metadata": {},
   "outputs": [],
   "source": []
  }
 ],
 "metadata": {
  "kernelspec": {
   "display_name": "Python 3 (ipykernel)",
   "language": "python",
   "name": "python3"
  },
  "language_info": {
   "codemirror_mode": {
    "name": "ipython",
    "version": 3
   },
   "file_extension": ".py",
   "mimetype": "text/x-python",
   "name": "python",
   "nbconvert_exporter": "python",
   "pygments_lexer": "ipython3",
   "version": "3.11.10"
  }
 },
 "nbformat": 4,
 "nbformat_minor": 5
}
